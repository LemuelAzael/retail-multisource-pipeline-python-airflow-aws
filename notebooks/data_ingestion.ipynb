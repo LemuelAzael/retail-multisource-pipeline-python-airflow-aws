{
 "cells": [
  {
   "cell_type": "markdown",
   "id": "33da7a6b-16f3-416a-8c21-422533e78f40",
   "metadata": {},
   "source": [
    "Llamada a los módulos:"
   ]
  },
  {
   "cell_type": "code",
   "execution_count": 1,
   "id": "420dc3c5-bf51-41f7-b523-c9e91836501b",
   "metadata": {},
   "outputs": [],
   "source": [
    "from modules.read import Read\n",
    "from modules.upload import Upload\n",
    "import pandas as pd"
   ]
  },
  {
   "cell_type": "markdown",
   "id": "481f07ee-86ed-4694-8027-1436a49a2889",
   "metadata": {},
   "source": [
    "Instanciación:"
   ]
  },
  {
   "cell_type": "code",
   "execution_count": 2,
   "id": "faa70503-828d-4b3b-ba27-f77f61a92c39",
   "metadata": {},
   "outputs": [],
   "source": [
    "extract = Read()\n",
    "load = Upload()"
   ]
  },
  {
   "cell_type": "markdown",
   "id": "6fb1dbf4-a7b1-4079-ac42-037ead1955cf",
   "metadata": {},
   "source": [
    "# Extracción de las distintas fuentes"
   ]
  },
  {
   "cell_type": "markdown",
   "id": "859c61fa-3457-48b7-875e-85085a7c8492",
   "metadata": {},
   "source": [
    "## MySQL"
   ]
  },
  {
   "cell_type": "code",
   "execution_count": 3,
   "id": "c7860a75-51ed-4bbb-a5ce-ad1b5528e103",
   "metadata": {},
   "outputs": [],
   "source": [
    "mysql_categories_df = extract.mysql_read('categories')"
   ]
  },
  {
   "cell_type": "code",
   "execution_count": 4,
   "id": "3a137079-95de-4384-a358-756d933110b6",
   "metadata": {},
   "outputs": [],
   "source": [
    "mysql_customers_df = extract.mysql_read('customers')"
   ]
  },
  {
   "cell_type": "markdown",
   "id": "feea57a7-1bc5-4ceb-9762-e0f9a0d70164",
   "metadata": {},
   "source": [
    "## MongoDB"
   ]
  },
  {
   "cell_type": "code",
   "execution_count": 5,
   "id": "675eee05-3df5-4e4d-807b-a8dc7ff3ef96",
   "metadata": {},
   "outputs": [],
   "source": [
    "mongodb_departments_df = extract.mongodb_read('retail_db', 'departments')"
   ]
  },
  {
   "cell_type": "code",
   "execution_count": 6,
   "id": "d65cb9ae-db93-40bb-a150-7967d3761814",
   "metadata": {},
   "outputs": [],
   "source": [
    "mongodb_order_items_df = extract.mongodb_read('retail_db', 'order_items')"
   ]
  },
  {
   "cell_type": "markdown",
   "id": "d0ef6cc1-1a3b-4f8d-93f1-042535bd7daa",
   "metadata": {},
   "source": [
    "## ADLS"
   ]
  },
  {
   "cell_type": "code",
   "execution_count": 7,
   "id": "c74ef89b-2981-4f5d-ae54-e283c6540ef6",
   "metadata": {},
   "outputs": [],
   "source": [
    "adls_orders_df = extract.adls_read('retail-source', 'orders.csv')"
   ]
  },
  {
   "cell_type": "code",
   "execution_count": 8,
   "id": "17b72319-3d49-416e-8441-e8856fcd3906",
   "metadata": {},
   "outputs": [],
   "source": [
    "adls_products_df = extract.adls_read('retail-source', 'products.csv')"
   ]
  },
  {
   "cell_type": "markdown",
   "id": "1f6381ac-7ced-4bbb-8416-92bab0c34dbf",
   "metadata": {},
   "source": [
    "# Carga: Landing"
   ]
  },
  {
   "cell_type": "code",
   "execution_count": 9,
   "id": "31f501cd-0809-4072-8034-939a05d36a19",
   "metadata": {},
   "outputs": [],
   "source": [
    "load.upload_amazon_s3_csv(mysql_categories_df, 'retail-multisource-pipeline', 'landing/categories.csv')"
   ]
  },
  {
   "cell_type": "code",
   "execution_count": 10,
   "id": "a64641c9-ac19-4891-baaa-341049a86f06",
   "metadata": {},
   "outputs": [],
   "source": [
    "load.upload_amazon_s3_csv(mysql_customers_df, 'retail-multisource-pipeline', 'landing/customers.csv')"
   ]
  },
  {
   "cell_type": "code",
   "execution_count": 11,
   "id": "098f6052-4da2-4110-9a98-4932786404e8",
   "metadata": {},
   "outputs": [],
   "source": [
    "load.upload_amazon_s3_csv(mongodb_departments_df, 'retail-multisource-pipeline', 'landing/departments.csv')"
   ]
  },
  {
   "cell_type": "code",
   "execution_count": 12,
   "id": "f9e90402-fcce-4f84-b864-362650879756",
   "metadata": {},
   "outputs": [],
   "source": [
    "load.upload_amazon_s3_csv(mongodb_order_items_df, 'retail-multisource-pipeline', 'landing/order_items.csv')"
   ]
  },
  {
   "cell_type": "code",
   "execution_count": 13,
   "id": "94e458f4-d216-4a53-835b-cf600c78ed54",
   "metadata": {},
   "outputs": [],
   "source": [
    "load.upload_amazon_s3_csv(adls_orders_df, 'retail-multisource-pipeline', 'landing/orders.csv')"
   ]
  },
  {
   "cell_type": "code",
   "execution_count": 14,
   "id": "7aff12b9-6570-4b1c-b892-f47197d3df83",
   "metadata": {},
   "outputs": [],
   "source": [
    "load.upload_amazon_s3_csv(adls_products_df, 'retail-multisource-pipeline', 'landing/products.csv')"
   ]
  },
  {
   "cell_type": "code",
   "execution_count": null,
   "id": "d65a625a-b872-4bc7-9944-6e8272326802",
   "metadata": {},
   "outputs": [],
   "source": []
  }
 ],
 "metadata": {
  "kernelspec": {
   "display_name": "Python 3 (ipykernel)",
   "language": "python",
   "name": "python3"
  },
  "language_info": {
   "codemirror_mode": {
    "name": "ipython",
    "version": 3
   },
   "file_extension": ".py",
   "mimetype": "text/x-python",
   "name": "python",
   "nbconvert_exporter": "python",
   "pygments_lexer": "ipython3",
   "version": "3.11.6"
  }
 },
 "nbformat": 4,
 "nbformat_minor": 5
}
