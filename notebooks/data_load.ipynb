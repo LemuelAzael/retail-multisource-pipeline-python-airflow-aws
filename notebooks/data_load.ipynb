{
 "cells": [
  {
   "cell_type": "markdown",
   "id": "cdc5ccc0-fcf0-4ab2-99c3-443ddcac724e",
   "metadata": {},
   "source": [
    "## Importar librerías y configuración"
   ]
  },
  {
   "cell_type": "code",
   "execution_count": 1,
   "id": "64c352e0-2241-4aca-9e98-9dda5ac42d8f",
   "metadata": {},
   "outputs": [],
   "source": [
    "import boto3\n",
    "import time\n",
    "\n",
    "glue = boto3.client('glue', region_name='us-east-1')  # Cliente de Glue\n",
    "s3_bucket = \"retail-multisource-pipeline\"\n",
    "processed_prefix = \"processed/\"\n",
    "database_name = \"retail_processed\"\n",
    "crawler_name = \"crawler_retail_processed\"\n",
    "iam_role = \"arn:aws:iam::905936428907:role/service-role/AWSGlueServiceRole-retail-S3\"  # Rol con permisos\n"
   ]
  },
  {
   "cell_type": "markdown",
   "id": "1c3062f9-6750-4963-a00c-84b7dab81045",
   "metadata": {},
   "source": [
    "## Crear la base de datos si no existe"
   ]
  },
  {
   "cell_type": "code",
   "execution_count": 2,
   "id": "b1977829-ca1f-4049-b7b3-34e83b0750ac",
   "metadata": {},
   "outputs": [
    {
     "name": "stdout",
     "output_type": "stream",
     "text": [
      "Base de datos 'retail_processed' ya existe.\n"
     ]
    }
   ],
   "source": [
    "try:\n",
    "    glue.create_database(DatabaseInput={\"Name\": database_name})\n",
    "    print(f\"Base de datos '{database_name}' creada.\")\n",
    "except glue.exceptions.AlreadyExistsException:\n",
    "    print(f\"Base de datos '{database_name}' ya existe.\")\n"
   ]
  },
  {
   "cell_type": "markdown",
   "id": "6827c92b-97fb-48b5-b671-5491c9a9107e",
   "metadata": {},
   "source": [
    "## Crear o actualizar el Crawler"
   ]
  },
  {
   "cell_type": "code",
   "execution_count": 3,
   "id": "6bc6147f-5e0c-4aaa-b077-e6c13681989c",
   "metadata": {},
   "outputs": [
    {
     "name": "stdout",
     "output_type": "stream",
     "text": [
      "Crawler 'crawler_retail_processed' creado.\n"
     ]
    }
   ],
   "source": [
    "try:\n",
    "    glue.create_crawler(\n",
    "        Name=crawler_name,\n",
    "        Role=iam_role,\n",
    "        DatabaseName=database_name,\n",
    "        Targets={\n",
    "            'S3Targets': [{'Path': f\"s3://{s3_bucket}/{processed_prefix}\"}]\n",
    "        },\n",
    "        TablePrefix=\"\",\n",
    "        SchemaChangePolicy={\n",
    "            'UpdateBehavior': 'UPDATE_IN_DATABASE',\n",
    "            'DeleteBehavior': 'DEPRECATE_IN_DATABASE'\n",
    "        }\n",
    "    )\n",
    "    print(f\"Crawler '{crawler_name}' creado.\")\n",
    "except glue.exceptions.AlreadyExistsException:\n",
    "    print(f\"Crawler '{crawler_name}' ya existe, se actualizará la configuración.\")\n",
    "    glue.update_crawler(\n",
    "        Name=crawler_name,\n",
    "        Role=iam_role,\n",
    "        DatabaseName=database_name,\n",
    "        Targets={\n",
    "            'S3Targets': [{'Path': f\"s3://{s3_bucket}/{processed_prefix}\"}]\n",
    "        },\n",
    "        TablePrefix=\"\",\n",
    "        SchemaChangePolicy={\n",
    "            'UpdateBehavior': 'UPDATE_IN_DATABASE',\n",
    "            'DeleteBehavior': 'DEPRECATE_IN_DATABASE'\n",
    "        }\n",
    "    )"
   ]
  },
  {
   "cell_type": "markdown",
   "id": "cd44d8e1-21b0-40fd-b53b-5e9295c9c630",
   "metadata": {},
   "source": [
    "## Ejecutar el crawler"
   ]
  },
  {
   "cell_type": "code",
   "execution_count": 4,
   "id": "bffe5dc7-4565-4b5a-8a81-afc59dfe267a",
   "metadata": {},
   "outputs": [
    {
     "name": "stdout",
     "output_type": "stream",
     "text": [
      "Crawler ejecutándose...\n"
     ]
    }
   ],
   "source": [
    "glue.start_crawler(Name=crawler_name)\n",
    "print(\"Crawler ejecutándose...\")"
   ]
  },
  {
   "cell_type": "markdown",
   "id": "a73c21fa-6ce9-4ee7-abd6-dd2e0adac695",
   "metadata": {},
   "source": [
    "## Esperar a que termine el crawler"
   ]
  },
  {
   "cell_type": "code",
   "execution_count": 5,
   "id": "73f7b933-2110-410b-9e4a-65f7200ce8a2",
   "metadata": {},
   "outputs": [
    {
     "name": "stdout",
     "output_type": "stream",
     "text": [
      "Crawler en ejecución, esperando 10s...\n",
      "Crawler en ejecución, esperando 10s...\n",
      "Crawler en ejecución, esperando 10s...\n",
      "Crawler en ejecución, esperando 10s...\n",
      "Crawler en ejecución, esperando 10s...\n",
      "Crawler en ejecución, esperando 10s...\n",
      "Crawler en ejecución, esperando 10s...\n",
      "Crawler en ejecución, esperando 10s...\n",
      "Crawler en ejecución, esperando 10s...\n",
      "Crawler en ejecución, esperando 10s...\n",
      "Crawler en ejecución, esperando 10s...\n",
      "Crawler en ejecución, esperando 10s...\n",
      "Crawler ha terminado. Tablas listas en Glue/Athena.\n"
     ]
    }
   ],
   "source": [
    "while True:\n",
    "    status = glue.get_crawler(Name=crawler_name)['Crawler']['State']\n",
    "    if status == 'READY':\n",
    "        print(\"Crawler ha terminado. Tablas listas en Glue/Athena.\")\n",
    "        break\n",
    "    else:\n",
    "        print(\"Crawler en ejecución, esperando 10s...\")\n",
    "        time.sleep(10)\n"
   ]
  },
  {
   "cell_type": "code",
   "execution_count": null,
   "id": "82707e2e-621f-48bd-8fa7-56c0f716bb99",
   "metadata": {},
   "outputs": [],
   "source": []
  }
 ],
 "metadata": {
  "kernelspec": {
   "display_name": "Python 3 (ipykernel)",
   "language": "python",
   "name": "python3"
  },
  "language_info": {
   "codemirror_mode": {
    "name": "ipython",
    "version": 3
   },
   "file_extension": ".py",
   "mimetype": "text/x-python",
   "name": "python",
   "nbconvert_exporter": "python",
   "pygments_lexer": "ipython3",
   "version": "3.9.5"
  }
 },
 "nbformat": 4,
 "nbformat_minor": 5
}
